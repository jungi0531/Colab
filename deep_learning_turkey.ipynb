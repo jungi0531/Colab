{
  "nbformat": 4,
  "nbformat_minor": 0,
  "metadata": {
    "colab": {
      "provenance": [],
      "mount_file_id": "1K-7NS1uNVbkv_oPQpOXvVC44eSg9GS81",
      "authorship_tag": "ABX9TyPjaXeVqp96C0XwG6W6JD92",
      "include_colab_link": true
    },
    "kernelspec": {
      "name": "python3",
      "display_name": "Python 3"
    },
    "language_info": {
      "name": "python"
    }
  },
  "cells": [
    {
      "cell_type": "markdown",
      "metadata": {
        "id": "view-in-github",
        "colab_type": "text"
      },
      "source": [
        "<a href=\"https://colab.research.google.com/github/jungi0531/Colab/blob/main/deep_learning_turkey.ipynb\" target=\"_parent\"><img src=\"https://colab.research.google.com/assets/colab-badge.svg\" alt=\"Open In Colab\"/></a>"
      ]
    },
    {
      "cell_type": "code",
      "execution_count": 5,
      "metadata": {
        "colab": {
          "base_uri": "https://localhost:8080/"
        },
        "id": "uSifE8ylNfCc",
        "outputId": "269694ce-cb8e-49d0-b6bb-e19c928d7990"
      },
      "outputs": [
        {
          "output_type": "stream",
          "name": "stdout",
          "text": [
            "0\n",
            "1\n",
            "2\n",
            "3\n",
            "4\n"
          ]
        }
      ],
      "source": [
        "x = range(5)\n",
        "for value in x :\n",
        "  print(value);"
      ]
    },
    {
      "cell_type": "code",
      "source": [],
      "metadata": {
        "id": "Czs-efRBcNd3"
      },
      "execution_count": null,
      "outputs": []
    },
    {
      "cell_type": "markdown",
      "source": [
        "안녕하세요?"
      ],
      "metadata": {
        "id": "SIsacqGkceVC"
      }
    }
  ]
}